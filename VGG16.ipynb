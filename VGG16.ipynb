{
 "cells": [
  {
   "cell_type": "code",
   "execution_count": 1,
   "metadata": {},
   "outputs": [],
   "source": [
    "from keras import backend as K\n",
    "from keras.preprocessing.image import ImageDataGenerator,load_img, img_to_array\n",
    "from keras.models import Sequential, Model\n",
    "from keras.layers import GlobalAveragePooling2D, Dense, Conv2D\n",
    "from keras.layers import Activation, Dropout, Flatten, Dense, AvgPool2D, MaxPool2D, MaxPooling2D\n",
    "from keras.applications.vgg16 import VGG16, preprocess_input\n",
    "from keras.optimizers import Adam, SGD, RMSprop\n",
    "\n",
    "import tensorflow as tf\n",
    "\n",
    "import os\n",
    "import numpy as np\n",
    "import pandas as pd\n",
    "\n",
    "import matplotlib.pyplot as plt"
   ]
  },
  {
   "cell_type": "code",
   "execution_count": null,
   "metadata": {},
   "outputs": [],
   "source": [
    "DATASET_DIR = r\"D:\\user\\DICOM_images\""
   ]
  },
  {
   "cell_type": "code",
   "execution_count": null,
   "metadata": {},
   "outputs": [],
   "source": [
    "category_list = os.listdir(DATASET_DIR)\n",
    "category_list"
   ]
  },
  {
   "cell_type": "code",
   "execution_count": null,
   "metadata": {},
   "outputs": [],
   "source": [
    "IMG_W = 256\n",
    "IMG_H = 256\n",
    "CHANNELS = 3\n",
    "\n",
    "INPUT_SHAPE = (IMG_W, IMG_H, CHANNELS)\n",
    "EPOCHS = 10\n",
    "BATCH_SIZE = 32"
   ]
  },
  {
   "cell_type": "code",
   "execution_count": null,
   "metadata": {},
   "outputs": [],
   "source": [
    "from PIL import Image\n",
    "\n",
    "for root, dirs, files in os.walk(DATASET_DIR):\n",
    "    rootpath = os.path.join(os.path.abspath(DATASET_DIR), root)\n",
    "\n",
    "    for file in files:\n",
    "        try:\n",
    "            filepath = os.path.join(rootpath, file)\n",
    "            img = Image.open(filepath)\n",
    "            img_resize = img.resize((IMG_W, IMG_H))\n",
    "            img_resize.save(filepath)\n",
    "            print(filepath + \" SUCCESS\")\n",
    "        except:\n",
    "            print(filepath + \" Image Error\")"
   ]
  },
  {
   "cell_type": "code",
   "execution_count": null,
   "metadata": {},
   "outputs": [],
   "source": [
    "from imgaug import augmenters as iaa \n",
    "import cv2\n",
    "\n",
    "def load_images_from_folder(folder): \n",
    "    images = [] \n",
    "    for filename in os.listdir(folder): \n",
    "        img = cv2.imread(os.path.join(folder, filename)) \n",
    "        if img is not None: \n",
    "            images.append(img) \n",
    "    return images\n",
    "\n",
    "def write_images(folder, name, images): \n",
    "    for i in range(0, len(images)): \n",
    "        cv2.imwrite(folder + \"\\\\\" + name + \"{}.png\".format(i), images[i])\n",
    "    print(\"image saving complete\")\n",
    "        \n",
    "def augmentations(images):       \n",
    "    seq1 = iaa.Sequential([\n",
    "        iaa.AverageBlur(k=(2, 7)),\n",
    "        iaa.MedianBlur(k = (3, 11))\n",
    "    ])\n",
    "    seq2 = iaa.Sequential([\n",
    "        iaa.Fliplr(0.5),\n",
    "        iaa.GaussianBlur(sigma=(0, 3.0))\n",
    "    ])\n",
    "    seq3 = iaa.Sequential([\n",
    "        iaa.AdditiveGaussianNoise(scale=0.05*255),\n",
    "        iaa.Affine(translate_px={\"x\": (1, 5)})\n",
    "    ])\n",
    "    seq4 = iaa.Sequential([\n",
    "        iaa.Affine(\n",
    "            scale={\"x\": (0.8, 1.2), \"y\": (0.8, 1.2)},\n",
    "            rotate=(-25, 25),\n",
    "            shear=(-8, 8)\n",
    "        )\n",
    "    ], random_order=True)\n",
    "    print(\"image augmentation beginning\")\n",
    "    img1 = seq1.augment_images(images)\n",
    "    print(\"sequence 1 completed......\")\n",
    "    img2 = seq2.augment_images(images)\n",
    "    print(\"sequence 2 completed......\")\n",
    "    img3 = seq3.augment_images(images)\n",
    "    print(\"sequence 3 completed......\")\n",
    "    img4 = seq4.augment_images(images)\n",
    "    print(\"sequence 4 completed......\")\n",
    "    print(\"proceed to next augmentations\")\n",
    "    list = [img1, img2, img3, img4]\n",
    "    \n",
    "    return list"
   ]
  },
  {
   "cell_type": "code",
   "execution_count": null,
   "metadata": {},
   "outputs": [],
   "source": [
    "for category in category_list:\n",
    "    category_images_path = os.path.join(DATASET_DIR, category)\n",
    "    while len(os.listdir(category_images_path)) < 3000:\n",
    "        images = load_images_from_folder(category_images_path)\n",
    "        augmented_images = augmentations(images)\n",
    "        for i in range(len(augmented_images)):\n",
    "            write_images(category_images_path, \"Augmented_\", augmented_images[i])"
   ]
  },
  {
   "cell_type": "code",
   "execution_count": null,
   "metadata": {},
   "outputs": [],
   "source": [
    "train_datagen = ImageDataGenerator(\n",
    "    rotation_range = 10,\n",
    "    brightness_range = [0.8, 1.2],\n",
    "    shear_range = 0.01,\n",
    "    zoom_range = [0.9, 1.1],\n",
    "    validation_split = 0.25,\n",
    "    preprocessing_function = preprocess_input\n",
    ")\n",
    " \n",
    "val_datagen = ImageDataGenerator(\n",
    "    validation_split = 0.25,\n",
    "    preprocessing_function = preprocess_input\n",
    ")"
   ]
  },
  {
   "cell_type": "code",
   "execution_count": null,
   "metadata": {},
   "outputs": [],
   "source": [
    "train_gen = train_datagen.flow_from_directory(\n",
    "    DATASET_DIR,\n",
    "    target_size = (IMG_W, IMG_H),\n",
    "    class_mode = 'categorical',\n",
    "    batch_size = BATCH_SIZE,\n",
    "    shuffle = True,\n",
    "    subset = 'training'\n",
    ")\n",
    " \n",
    "val_gen = val_datagen.flow_from_directory(\n",
    "    DATASET_DIR,\n",
    "    target_size = (IMG_W, IMG_H),\n",
    "    class_mode = 'categorical',\n",
    "    batch_size = BATCH_SIZE,\n",
    "    shuffle = False,\n",
    "    subset = 'validation'\n",
    ")"
   ]
  },
  {
   "cell_type": "code",
   "execution_count": null,
   "metadata": {},
   "outputs": [],
   "source": [
    "base_model = VGG16(input_shape=INPUT_SHAPE, weights=\"imagenet\",\n",
    "                  include_top=False)\n",
    "\n",
    "x = base_model.output\n",
    "x = GlobalAveragePooling2D()(x)\n",
    "output = Dense(len(category_list), activation='softmax')(x)\n",
    "\n",
    "model = Model(inputs=base_model.input, outputs=output)"
   ]
  },
  {
   "cell_type": "code",
   "execution_count": null,
   "metadata": {},
   "outputs": [],
   "source": [
    "model.compile(loss=tf.keras.losses.CategoricalCrossentropy(),\n",
    "              optimizer='rmsprop',\n",
    "              metrics=['accuracy'])"
   ]
  },
  {
   "cell_type": "code",
   "execution_count": null,
   "metadata": {},
   "outputs": [],
   "source": [
    "model.summary()"
   ]
  },
  {
   "cell_type": "code",
   "execution_count": null,
   "metadata": {},
   "outputs": [],
   "source": [
    "from keras.callbacks import ModelCheckpoint\n",
    "from keras.callbacks import TensorBoard\n",
    "from keras.callbacks import EarlyStopping\n",
    "\n",
    "MODEL_SAVE_FOLDER_PATH = \"./model\"\n",
    "LOG_SAVE_FOLDER_PATH = \"./logs\"\n",
    "if not os.path.exists(MODEL_SAVE_FOLDER_PATH):\n",
    "    os.mkdir(MODEL_SAVE_FOLDER_PATH)\n",
    "if not os.path.exists(LOG_SAVE_FOLDER_PATH):\n",
    "    os.mkdir(LOG_SAVE_FOLDER_PATH)\n",
    "model_path = MODEL_SAVE_FOLDER_PATH + \"\\\\\" + \"model.h5\"\n",
    "\n",
    "history = model.fit_generator(\n",
    "    train_gen,\n",
    "    steps_per_epoch = train_gen.samples // BATCH_SIZE,\n",
    "    validation_data = val_gen, \n",
    "    validation_steps = val_gen.samples // BATCH_SIZE,\n",
    "    epochs = EPOCHS,\n",
    "    callbacks = [\n",
    "        ModelCheckpoint(filepath=model_path, monitor=\"val_loss\", verbose=1, save_best_only=True),\n",
    "        TensorBoard(log_dir=LOG_SAVE_FOLDER_PATH, histogram_freq=0, write_graph=True, write_images=True)\n",
    "    ])"
   ]
  },
  {
   "cell_type": "code",
   "execution_count": null,
   "metadata": {},
   "outputs": [],
   "source": [
    "plt.plot(history.history[\"accuracy\"])\n",
    "plt.plot(history.history[\"val_accuracy\"])\n",
    "plt.title(\"model accuracy\")\n",
    "plt.ylabel(\"accuracy\")\n",
    "plt.xlabel(\"epoch\")\n",
    "plt.legend([\"train\", \"test\"], loc=\"upper left\")\n",
    "plt.show()\n",
    "\n",
    "plt.plot(history.history['loss'])\n",
    "plt.plot(history.history['val_loss'])\n",
    "plt.title('model loss')\n",
    "plt.ylabel('loss')\n",
    "plt.xlabel('epoch')\n",
    "plt.legend(['train', 'test'], loc='upper left')\n",
    "plt.show()"
   ]
  },
  {
   "cell_type": "code",
   "execution_count": null,
   "metadata": {},
   "outputs": [],
   "source": [
    "from keras.models import load_model\n",
    "    \n",
    "model.save(\"model.h5\")\n",
    "model.save_weights(\"model_weight.h5\")\n",
    "print(\"Saved model to disk\")"
   ]
  },
  {
   "cell_type": "code",
   "execution_count": null,
   "metadata": {},
   "outputs": [],
   "source": [
    "print(\"training_accuracy\", history.history['accuracy'][-1])\n",
    "print(\"validation_accuracy\", history.history['val_accuracy'][-1])"
   ]
  },
  {
   "cell_type": "code",
   "execution_count": null,
   "metadata": {},
   "outputs": [],
   "source": [
    "label = validation_generator.classes\n",
    "print(label)"
   ]
  },
  {
   "cell_type": "code",
   "execution_count": null,
   "metadata": {},
   "outputs": [],
   "source": [
    "pred = model.predict(validation_generator)\n",
    "predicted_class_indices = np.argmax(pred, axis=1)\n",
    "labels = (validation_generator.class_indices)  \n",
    "labels2 = dict((v, k) for k,v in labels.items())\n",
    "predictions = [labels2[k] for k in predicted_class_indices]\n",
    "print(predicted_class_indices)\n",
    "print(labels)\n",
    "print(predictions)"
   ]
  },
  {
   "cell_type": "code",
   "execution_count": null,
   "metadata": {},
   "outputs": [],
   "source": [
    "from sklearn.metrics import confusion_matrix\n",
    "\n",
    "cf = confusion_matrix(predicted_class_indices, label)"
   ]
  },
  {
   "cell_type": "code",
   "execution_count": null,
   "metadata": {},
   "outputs": [],
   "source": [
    "exp_series = pd.Series(label)\n",
    "pred_series = pd.Series(predicted_class_indices)\n",
    "pd.crosstab(exp_series, pred_series, rownames=[\"Actual\"], colnames=[\"Predicted\"], margins=True)"
   ]
  }
 ],
 "metadata": {
  "kernelspec": {
   "display_name": "Python 3",
   "language": "python",
   "name": "python3"
  },
  "language_info": {
   "codemirror_mode": {
    "name": "ipython",
    "version": 3
   },
   "file_extension": ".py",
   "mimetype": "text/x-python",
   "name": "python",
   "nbconvert_exporter": "python",
   "pygments_lexer": "ipython3",
   "version": "3.8.3"
  }
 },
 "nbformat": 4,
 "nbformat_minor": 2
}
